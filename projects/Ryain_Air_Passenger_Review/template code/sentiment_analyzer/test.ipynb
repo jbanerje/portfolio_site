{
 "cells": [
  {
   "cell_type": "code",
   "execution_count": 1,
   "metadata": {},
   "outputs": [],
   "source": [
    "import pandas as pd"
   ]
  },
  {
   "cell_type": "code",
   "execution_count": 2,
   "metadata": {},
   "outputs": [],
   "source": [
    "from get_sentiments import *"
   ]
  },
  {
   "cell_type": "code",
   "execution_count": 39,
   "metadata": {},
   "outputs": [],
   "source": [
    "# raw_text = 'I hate to be here!'\n",
    "# sentiment_polarity = analyzeSentiments(raw_text)\n",
    "# sentiment_polarity.get_sentiments()"
   ]
  },
  {
   "cell_type": "markdown",
   "metadata": {},
   "source": []
  },
  {
   "cell_type": "code",
   "execution_count": 30,
   "metadata": {},
   "outputs": [
    {
     "data": {
      "text/plain": [
       "{'neg': 0.499, 'neu': 0.501, 'pos': 0.0, 'compound': -0.6114}"
      ]
     },
     "metadata": {},
     "output_type": "display_data"
    },
    {
     "data": {
      "text/plain": [
       "'Negative Sentiment'"
      ]
     },
     "metadata": {},
     "output_type": "display_data"
    },
    {
     "data": {
      "text/html": [
       "<div>\n",
       "<style scoped>\n",
       "    .dataframe tbody tr th:only-of-type {\n",
       "        vertical-align: middle;\n",
       "    }\n",
       "\n",
       "    .dataframe tbody tr th {\n",
       "        vertical-align: top;\n",
       "    }\n",
       "\n",
       "    .dataframe thead th {\n",
       "        text-align: right;\n",
       "    }\n",
       "</style>\n",
       "<table border=\"1\" class=\"dataframe\">\n",
       "  <thead>\n",
       "    <tr style=\"text-align: right;\">\n",
       "      <th></th>\n",
       "      <th>Sentiment</th>\n",
       "      <th>Score</th>\n",
       "    </tr>\n",
       "  </thead>\n",
       "  <tbody>\n",
       "    <tr>\n",
       "      <th>2</th>\n",
       "      <td>Neutral</td>\n",
       "      <td>0.501</td>\n",
       "    </tr>\n",
       "    <tr>\n",
       "      <th>1</th>\n",
       "      <td>Negative</td>\n",
       "      <td>0.499</td>\n",
       "    </tr>\n",
       "    <tr>\n",
       "      <th>0</th>\n",
       "      <td>Positive</td>\n",
       "      <td>0.000</td>\n",
       "    </tr>\n",
       "  </tbody>\n",
       "</table>\n",
       "</div>"
      ],
      "text/plain": [
       "  Sentiment  Score\n",
       "2   Neutral  0.501\n",
       "1  Negative  0.499\n",
       "0  Positive  0.000"
      ]
     },
     "execution_count": 30,
     "metadata": {},
     "output_type": "execute_result"
    }
   ],
   "source": [
    "# import seaborn as sns\n",
    "# key_mapper = {'neu':'Neutral', 'pos':'Positive', 'neg':'Negative'}\n",
    "\n",
    "# # Clean Sentiment Polarity\n",
    "# sentiment_dict = sentiment_polarity.get_sentiments()\n",
    "# display(sentiment_dict)\n",
    "# polarity_df = pd.DataFrame([sentiment_dict])[['pos', 'neg', 'neu']].T.reset_index().rename(columns={'index':'Sentiment', 0:'Score'}).sort_values(by='Score', ascending=False)\n",
    "# polarity_df['Sentiment'] = polarity_df['Sentiment'].map(key_mapper)\n",
    "\n",
    "# # Polarity Conclusion\n",
    "# compound_score = sentiment_dict['compound']\n",
    "# if  compound_score>= 0.05:\n",
    "#     polarity = 'Positive Sentiment'\n",
    "# elif (compound_score > -0.05) and (compound_score < 0.05):\n",
    "#     polarity = 'Neutral Sentiment'\n",
    "# else:\n",
    "#     polarity = 'Negative Sentiment'\n",
    "\n",
    "# display(polarity)    \n",
    "\n",
    "# polarity_df"
   ]
  },
  {
   "cell_type": "code",
   "execution_count": 44,
   "metadata": {},
   "outputs": [
    {
     "data": {
      "text/plain": [
       "{'neg': 0.499, 'neu': 0.501, 'pos': 0.0, 'compound': -0.6114}"
      ]
     },
     "execution_count": 44,
     "metadata": {},
     "output_type": "execute_result"
    }
   ],
   "source": [
    "from get_sentiments import *\n",
    "raw_text = 'I hate to be here!'\n",
    "sentiment_polarity = analyzeSentiments(raw_text)\n",
    "sentiment_polarity.get_sentiments()\n",
    "# polarity_df"
   ]
  },
  {
   "cell_type": "code",
   "execution_count": null,
   "metadata": {},
   "outputs": [],
   "source": []
  }
 ],
 "metadata": {
  "interpreter": {
   "hash": "57baa5815c940fdaff4d14510622de9616cae602444507ba5d0b6727c008cbd6"
  },
  "kernelspec": {
   "display_name": "Python 3.7.4 64-bit",
   "language": "python",
   "name": "python3"
  },
  "language_info": {
   "codemirror_mode": {
    "name": "ipython",
    "version": 3
   },
   "file_extension": ".py",
   "mimetype": "text/x-python",
   "name": "python",
   "nbconvert_exporter": "python",
   "pygments_lexer": "ipython3",
   "version": "3.8.12"
  },
  "orig_nbformat": 4
 },
 "nbformat": 4,
 "nbformat_minor": 2
}
